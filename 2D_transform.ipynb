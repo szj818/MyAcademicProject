{
 "cells": [
  {
   "cell_type": "code",
   "execution_count": 1,
   "metadata": {
    "scrolled": true
   },
   "outputs": [
    {
     "data": {
      "image/png": "[encoded data removed]",
      "text/plain": [
       "<Figure size 432x288 with 1 Axes>"
      ]
     },
     "metadata": {
      "needs_background": "light"
     },
     "output_type": "display_data"
    }
   ],
   "source": [
    "import os\n",
    "import numpy as np\n",
    "import matplotlib.pyplot as plt\n",
    "\n",
    "theta = np.arange(361)\n",
    "x = np.cos(theta*np.pi/180)\n",
    "y = np.sin(theta*np.pi/180)\n",
    "plt.plot(x,y)\n",
    "plt.show()"
   ]
  },
  {
   "cell_type": "code",
   "execution_count": 4,
   "metadata": {},
   "outputs": [],
   "source": [
    "import os\n",
    "import numpy as np\n",
    "\n",
    "fo = open('cylinder.x',\"w+\")\n",
    "\n",
    "line1 = '{:>8d}\\n'.format(1)\n",
    "fo.write(line1)\n",
    "line2 = '{0:>8d}{1:>9d}\\n'.format(361,1)\n",
    "fo.write(line2)\t\n",
    "\n",
    "theta = np.arange(361)\n",
    "x = np.cos(theta*np.pi/180)\n",
    "y = np.sin(theta*np.pi/180)\n",
    "for i in range(361):\n",
    "    flag = ' \\n' if (i+1) % 4 == 0 else ''\n",
    "    fo.write('{: >16.8f}'.format(x[i]))\n",
    "    fo.write(flag)\n",
    "fo.write('\\n')\n",
    "for i in range(361):\n",
    "    flag = ' \\n' if (i+1) % 4 == 0 else ''\n",
    "    fo.write('{: >16.8f}'.format(y[i]))\n",
    "    fo.write(flag)\n",
    "fo.close()"
   ]
  },
  {
   "cell_type": "code",
   "execution_count": null,
   "metadata": {},
   "outputs": [],
   "source": [
    "import os\n",
    "import numpy as np\n",
    "\n",
    "rad = 0.0254\n",
    "dots = 361\n",
    "cutoff = 0 # from which timestep to plot the trajectory\n",
    "\n",
    "xcoord = open('x_coordinate.txt')\n",
    "ycoord = open('y_coordinate.txt')\n",
    "fo = open('trajectory.x',\"w+\")\n",
    "xlines = xcoord.readlines()[cutoff:]\n",
    "ylines = ycoord.readlines()[cutoff:]\n",
    "\n",
    "line1 = '{:>8d}\\n'.format(2)\n",
    "fo.write(line1)\n",
    "line2 = '{0:>8d}{1:>9d}{2:>9d}{3:>9d}\\n'.format(len(xlines),1,dots,1)\n",
    "fo.write(line2)\t\n",
    "\n",
    "# plot the trajectory of the cylinder center\n",
    "for i in range(len(xlines)):\n",
    "\tx = xlines[i].split(',')[1]\n",
    "\tflag = ' \\n' if (i+1) % 4 == 0 else ''\n",
    "\tfo.write('{: >16.8f}'.format(eval(x)))\n",
    "\tfo.write(flag)\n",
    "fo.write('\\n')\n",
    "for i in range(len(ylines)):\n",
    "\ty = ylines[i].split(',')[1]\n",
    "\tflag = ' \\n' if (i+1) % 4 == 0 else ''\n",
    "\tfo.write('{: >16.8f}'.format(eval(y)))\n",
    "\tfo.write(flag)\n",
    "fo.write('\\n')\n",
    "\n",
    "# plot the original cyliner\n",
    "theta = np.arange(dots)\n",
    "x = rad*np.cos(theta*np.pi/180)\n",
    "y = rad*np.sin(theta*np.pi/180)\n",
    "for i in range(dots):\n",
    "    flag = ' \\n' if (i+1) % 4 == 0 else ''\n",
    "    fo.write('{: >16.8f}'.format(x[i]))\n",
    "    fo.write(flag)\n",
    "fo.write('\\n')\n",
    "for i in range(dots):\n",
    "    flag = ' \\n' if (i+1) % 4 == 0 else ''\n",
    "    fo.write('{: >16.8f}'.format(y[i]))\n",
    "    fo.write(flag)\n",
    "\t\n",
    "fo.close()\n",
    "xcoord.close()\n",
    "ycoord.close()\t"
   ]
  }
 ],
 "metadata": {
  "kernelspec": {
   "display_name": "Python 3",
   "language": "python",
   "name": "python3"
  },
  "language_info": {
   "codemirror_mode": {
    "name": "ipython",
    "version": 3
   },
   "file_extension": ".py",
   "mimetype": "text/x-python",
   "name": "python",
   "nbconvert_exporter": "python",
   "pygments_lexer": "ipython3",
   "version": "3.7.6"
  }
 },
 "nbformat": 4,
 "nbformat_minor": 4
}
